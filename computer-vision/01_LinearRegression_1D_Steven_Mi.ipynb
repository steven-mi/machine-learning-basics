{
 "cells": [
  {
   "cell_type": "markdown",
   "metadata": {
    "nbpresent": {
     "id": "ef619ff9-4321-4ee0-94b8-bc5f22943cc7"
    }
   },
   "source": [
    "# Lineare Regression 1D (Aufgaben)"
   ]
  },
  {
   "cell_type": "markdown",
   "metadata": {
    "nbpresent": {
     "id": "369f40a4-6824-409a-95c1-0daaefcbfab1"
    }
   },
   "source": [
    "In dieses Übung wird eine zufällige Punkteverteilung erzeugt, für die eine Approximation mittels einer Geraden gesucht wird. Zu Beginn sind die Parameter theta0 (y-Achsenabschnitt) und theta1 (Steigung) der Geraden zufällig gesetzt. Danach werden sie mit dem Gradientenverfahren geändert.\n",
    "\n",
    "Sie können das hier gezeigte Jupyter Notebook downloaden und auf ihren eigenen Rechner ausführen."
   ]
  },
  {
   "cell_type": "markdown",
   "metadata": {},
   "source": [
    "# Einleitung\n",
    "Zunächst wird numpy für den Umgang und matplot zum Plotten von Matrizen importiert. Danach wird der Zufallsgenerator von Numpy geseedet und die Anzahl an Punkte die später erzeugt werden soll festgelegt.\n",
    "\n"
   ]
  },
  {
   "cell_type": "code",
   "execution_count": null,
   "metadata": {
    "nbpresent": {
     "id": "64433bf6-dc97-409a-b349-2e07744cc12e"
    }
   },
   "outputs": [],
   "source": [
    "import numpy as np\n",
    "import matplotlib.pyplot as plt\n",
    "\n",
    "# enable interactive plots\n",
    "%matplotlib notebook\n",
    "\n",
    "np.random.seed(7) \n",
    "num_points = 100"
   ]
  },
  {
   "cell_type": "markdown",
   "metadata": {},
   "source": [
    "Die nachfolgenden Methoden sind zum Plotten der Datenpunkte und der approximierten Geraden, sowie dem berechnen des Approximationsfehlers."
   ]
  },
  {
   "cell_type": "code",
   "execution_count": null,
   "metadata": {
    "nbpresent": {
     "id": "19fb369b-86c7-4aa0-9a3f-40e70f3f57b9"
    }
   },
   "outputs": [],
   "source": [
    "def make_plot(x, y, prediction): \n",
    "    fig = plt.figure(figsize = (8,6))   \n",
    "    \n",
    "    ax = fig.add_subplot(1, 1, 1)\n",
    "    ax.axis([-2, 2, 0.1, 0.6])\n",
    "    ax.set_xlabel('x')\n",
    "    ax.set_ylabel('y')\n",
    "    \n",
    "    dots, = ax.plot(x, y, 'ro')\n",
    "    line, = ax.plot(x, prediction)\n",
    "    return fig, dots, line\n",
    "\n",
    "def show_plot(x, y, prediction): \n",
    "    fig, dots, line = make_plot(x, y, prediction)\n",
    "    fig.tight_layout()\n",
    "    plt.show()    \n",
    "    \n",
    "def calc_error(y, prediction):\n",
    "    d = y - prediction\n",
    "    d = np.square(d)\n",
    "    e = np.sum(d)\n",
    "    return e"
   ]
  },
  {
   "cell_type": "markdown",
   "metadata": {},
   "source": [
    "Die eigentlichen Datenpunkte werden zufällig erzeugt, dabei wird eine Gauß-Verteilung verwendet."
   ]
  },
  {
   "cell_type": "code",
   "execution_count": null,
   "metadata": {
    "nbpresent": {
     "id": "398336bc-452e-4b47-a97c-8073f94aa92d"
    }
   },
   "outputs": [],
   "source": [
    "# random data array\n",
    "x = np.zeros(num_points, dtype=np.float32) \n",
    "y = np.zeros(num_points, dtype=np.float32)\n",
    "\n",
    "for i in range(num_points):\n",
    "    x[i] = np.random.normal(0.0, 0.55)\n",
    "    y[i] = x[i] * 0.1 + 0.3 + np.random.normal(0.0, 0.03)"
   ]
  },
  {
   "cell_type": "markdown",
   "metadata": {},
   "source": [
    "Der Y-Achsenabschnitt (t0) und die Steigung (t1) von einer Geradengleichung werden festgelegt. Diese Gleichung wird verwendet um für jeden X-Wert einen entsprechenden Y-Wert auszurechnen, die zusammen eine Gerade formen. Da t0 und t1 willkührlich ausgewählt wurden approximiert die entstandene Line die zufälligen Datenpunkte X,Y eher schlecht. "
   ]
  },
  {
   "cell_type": "code",
   "execution_count": null,
   "metadata": {
    "nbpresent": {
     "id": "1d67f622-8f35-44fb-bd28-e36575226dd5"
    }
   },
   "outputs": [],
   "source": [
    "# initiale theta-Werte\n",
    "t0 =  0.4\n",
    "t1 = -0.3 \n",
    "\n",
    "# prediction\n",
    "pred = lambda x: t0 + t1 * x\n",
    "y_pred = pred(x)\n",
    "\n",
    "# print results\n",
    "print(\"error:\", calc_error(y, y_pred))\n",
    "show_plot(x, y, y_pred)"
   ]
  },
  {
   "cell_type": "markdown",
   "metadata": {},
   "source": [
    "<hr />\n",
    "<h2><span class=\"marker\"><strong>Aufgabe</strong></span></h2>\n",
    "\n",
    "<p><span class=\"marker\">Im n&auml;chsten Abschnitt sollen die Theta Werte (t0 und t1) durch das&nbsp;</span>Gradientenverfahren&nbsp;angepasst werden. Implementieren sie die partielle Ableitung f&uuml;r t0 und t1, aktualisieren sie danach diese Werte und geben sie den neuen Pr&auml;diktionsfehler aus. Erstellen sie eine neue approximations Gerade und speichern sie dessen X-Werte im predictions array.</p>"
   ]
  },
  {
   "cell_type": "code",
   "execution_count": null,
   "metadata": {
    "nbpresent": {
     "id": "ea272b8d-0513-45a4-a7a8-c80f646c9af6"
    }
   },
   "outputs": [],
   "source": [
    "# initiale theta-Werte\n",
    "t0 =  0.4\n",
    "t1 = -0.3 \n",
    "\n",
    "# learn rate\n",
    "alpha = 0.5 / num_points \n",
    "\n",
    "# predictions per iteration\n",
    "predictions = []\n",
    "\n",
    "# train for 30 iterations\n",
    "for i in range(30):\n",
    "    \n",
    "    # TODO prediction with input data\n",
    "    y_pred = pred(x)\n",
    "    # TODO partial derivative\n",
    "    grad_t0 = np.sum(- 2 * (y - y_pred) )\n",
    "    grad_t1 = np.sum(- 2 * (y - y_pred) * x)\n",
    "\n",
    "    # TODO update theta\n",
    "    t0 = t0 - grad_t0 * alpha\n",
    "    t1 = t1 - grad_t1 * alpha\n",
    "\n",
    "\n",
    "    # print error\n",
    "    print(\"{:2d} error: {:5.3f}\".format(i, calc_error(y, y_pred)))\n",
    "    \n",
    "    # remember the current predictions \n",
    "    predictions.append(y_pred)"
   ]
  },
  {
   "cell_type": "markdown",
   "metadata": {},
   "source": [
    "Die berechneten Geraden können über ein interaktives Diagramm betrachtet werden. Da in Python imports jeder Zeit möglich sind, wird das Slider-Widges von matplotlib Widges importiert und ein Plot erstellt der über einen Slider die Geraden der verschiedenen Iterationen anzeigt."
   ]
  },
  {
   "cell_type": "raw",
   "metadata": {
    "collapsed": true
   },
   "source": [
    "from matplotlib.widgets import Slider\n",
    "\n",
    "fig, dots, line = make_plot(x, y, predictions[0])\n",
    "plt.subplots_adjust(left=0.08, right=0.95, top=0.95, bottom=0.15)\n",
    "\n",
    "sliderPos = plt.axes([0.15, 0.03, 0.75, 0.03])\n",
    "iterationSlider = Slider(sliderPos, 'Iteration', 0, len(predictions), valfmt=\"%d\",valinit=0)\n",
    "\n",
    "def update(x):\n",
    "    line.set_ydata(predictions[int(x)])\n",
    "    fig.canvas.draw_idle()\n",
    "iterationSlider.on_changed(update)\n",
    "\n",
    "plt.show()"
   ]
  },
  {
   "cell_type": "markdown",
   "metadata": {
    "collapsed": true
   },
   "source": [
    "# Ergebnis\n",
    "\n",
    "Nachdem die Theta Werte angepasst wurden, könnte der Ergebnisplot wie folgt aussehen:\n",
    "\n"
   ]
  },
  {
   "cell_type": "code",
   "execution_count": null,
   "metadata": {},
   "outputs": [],
   "source": [
    "show_plot(x, y, pred(x))"
   ]
  },
  {
   "cell_type": "markdown",
   "metadata": {},
   "source": [
    "Bevor sie das Notebook in Moodle hochladen entfernen sie bitte über \"Kernel\" -> \"Restart and Clear Output\" sämtlichen von Python erstellten Inhalt und speichern anschließend das Notebook \"File\" -> \"Save and Checkpoint\" erneut ab. Sorgen sie bitte außerdem dafür das im Dateinamen ihr Vor- und Nachname steht, ich empfehle folgende Namensgebung: \"01_LinearRegression_1D_VORNAME_NACHNAME.ipynb\""
   ]
  },
  {
   "cell_type": "code",
   "execution_count": null,
   "metadata": {},
   "outputs": [],
   "source": []
  }
 ],
 "metadata": {
  "anaconda-cloud": {},
  "hide_input": false,
  "kernelspec": {
   "display_name": "Python 3",
   "language": "python",
   "name": "python3"
  },
  "language_info": {
   "codemirror_mode": {
    "name": "ipython",
    "version": 3
   },
   "file_extension": ".py",
   "mimetype": "text/x-python",
   "name": "python",
   "nbconvert_exporter": "python",
   "pygments_lexer": "ipython3",
   "version": "3.7.3"
  },
  "nbpresent": {
   "slides": {
    "05ea2ae7-38a5-44e9-a8a5-342c958f50e8": {
     "id": "05ea2ae7-38a5-44e9-a8a5-342c958f50e8",
     "prev": "de9bd8cd-10dd-4373-ac76-f8acd44d4304",
     "regions": {
      "e7a239e3-bd12-4536-8597-fe8e580f2567": {
       "attrs": {
        "height": 0.8,
        "width": 0.8,
        "x": 0.1,
        "y": 0.1
       },
       "content": {
        "cell": "19fb369b-86c7-4aa0-9a3f-40e70f3f57b9",
        "part": "whole"
       },
       "id": "e7a239e3-bd12-4536-8597-fe8e580f2567"
      }
     }
    },
    "24103926-b332-4cc7-8458-a7169df9758e": {
     "id": "24103926-b332-4cc7-8458-a7169df9758e",
     "prev": null,
     "regions": {
      "03444e48-e2f7-4d29-bdcc-cd9e5a2a499f": {
       "attrs": {
        "height": 0.8,
        "width": 0.8,
        "x": 0.1,
        "y": 0.1
       },
       "content": {
        "cell": "ef619ff9-4321-4ee0-94b8-bc5f22943cc7",
        "part": "whole"
       },
       "id": "03444e48-e2f7-4d29-bdcc-cd9e5a2a499f"
      }
     }
    },
    "48d0be3b-55d4-4f33-98ab-3eb3269c1a3d": {
     "id": "48d0be3b-55d4-4f33-98ab-3eb3269c1a3d",
     "prev": "fa75c349-cf1b-484f-8ace-23f186fd7e4f",
     "regions": {
      "7f79c2f2-6308-4ef4-af32-634ce2fdd461": {
       "attrs": {
        "height": 0.8,
        "width": 0.8,
        "x": 0.1,
        "y": 0.1
       },
       "content": {
        "cell": "1d67f622-8f35-44fb-bd28-e36575226dd5",
        "part": "whole"
       },
       "id": "7f79c2f2-6308-4ef4-af32-634ce2fdd461"
      }
     }
    },
    "55d37cc9-91d4-4bf8-86fa-55df9364002b": {
     "id": "55d37cc9-91d4-4bf8-86fa-55df9364002b",
     "prev": "48d0be3b-55d4-4f33-98ab-3eb3269c1a3d",
     "regions": {
      "038bdb51-6fe2-4e07-b7f5-e6d2bdff09c5": {
       "attrs": {
        "height": 0.8,
        "width": 0.8,
        "x": 0.1,
        "y": 0.1
       },
       "content": {
        "cell": "ea272b8d-0513-45a4-a7a8-c80f646c9af6",
        "part": "whole"
       },
       "id": "038bdb51-6fe2-4e07-b7f5-e6d2bdff09c5"
      }
     }
    },
    "6ed2a2b5-dff1-4b28-a6c3-4629464817c3": {
     "id": "6ed2a2b5-dff1-4b28-a6c3-4629464817c3",
     "prev": "c35c7fa6-fe92-4833-89ff-e7c3b5ff6e2a",
     "regions": {
      "f1279e05-9551-4133-8a55-c293635eb8b9": {
       "attrs": {
        "height": 0.8,
        "width": 0.8,
        "x": 0.1,
        "y": 0.1
       },
       "content": {
        "cell": "1019a742-95b6-45a4-aa1a-222d3c945410",
        "part": "whole"
       },
       "id": "f1279e05-9551-4133-8a55-c293635eb8b9"
      }
     }
    },
    "be34bb2d-eb5e-4659-8eb4-1bc4ba187f5e": {
     "id": "be34bb2d-eb5e-4659-8eb4-1bc4ba187f5e",
     "prev": "55d37cc9-91d4-4bf8-86fa-55df9364002b",
     "regions": {
      "c2a33c48-ada3-4e4e-9729-77087db8affd": {
       "attrs": {
        "height": 0.8,
        "width": 0.8,
        "x": 0.1,
        "y": 0.1
       },
       "content": {
        "cell": "268408dc-570f-4a8f-9ab7-5b22571bbd75",
        "part": "whole"
       },
       "id": "c2a33c48-ada3-4e4e-9729-77087db8affd"
      }
     }
    },
    "c35c7fa6-fe92-4833-89ff-e7c3b5ff6e2a": {
     "id": "c35c7fa6-fe92-4833-89ff-e7c3b5ff6e2a",
     "prev": "24103926-b332-4cc7-8458-a7169df9758e",
     "regions": {
      "93f446c4-8ec0-4ee3-8606-4529d015530f": {
       "attrs": {
        "height": 0.8,
        "width": 0.8,
        "x": 0.1,
        "y": 0.1
       },
       "content": {
        "cell": "369f40a4-6824-409a-95c1-0daaefcbfab1",
        "part": "whole"
       },
       "id": "93f446c4-8ec0-4ee3-8606-4529d015530f"
      }
     }
    },
    "de9bd8cd-10dd-4373-ac76-f8acd44d4304": {
     "id": "de9bd8cd-10dd-4373-ac76-f8acd44d4304",
     "prev": "6ed2a2b5-dff1-4b28-a6c3-4629464817c3",
     "regions": {
      "5f3bce41-a407-46fc-81a9-3f20cbb512f8": {
       "attrs": {
        "height": 0.8,
        "width": 0.8,
        "x": 0.1,
        "y": 0.1
       },
       "content": {
        "cell": "64433bf6-dc97-409a-b349-2e07744cc12e",
        "part": "whole"
       },
       "id": "5f3bce41-a407-46fc-81a9-3f20cbb512f8"
      }
     }
    },
    "fa75c349-cf1b-484f-8ace-23f186fd7e4f": {
     "id": "fa75c349-cf1b-484f-8ace-23f186fd7e4f",
     "prev": "05ea2ae7-38a5-44e9-a8a5-342c958f50e8",
     "regions": {
      "c84e894d-e098-4639-9491-3c5b95908b26": {
       "attrs": {
        "height": 0.8,
        "width": 0.8,
        "x": 0.1,
        "y": 0.1
       },
       "content": {
        "cell": "398336bc-452e-4b47-a97c-8073f94aa92d",
        "part": "whole"
       },
       "id": "c84e894d-e098-4639-9491-3c5b95908b26"
      }
     }
    }
   },
   "themes": {}
  }
 },
 "nbformat": 4,
 "nbformat_minor": 1
}
