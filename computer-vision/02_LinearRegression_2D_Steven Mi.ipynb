{
 "cells": [
  {
   "cell_type": "markdown",
   "metadata": {},
   "source": [
    "# Lineare Regression 2D (Aufgaben)"
   ]
  },
  {
   "cell_type": "markdown",
   "metadata": {},
   "source": [
    "Nachdem klar ist wie die Lineare Regression im allgemeinen funktioniert, soll das Verfahren auf 2D Daten erweitert werden. Hierfür wird ein Foto aus dem Internet geladen und der Grün-Kanal gelöscht. Mithilfe der Regression und dem Rot/Blau Kanal sollen die verlorenen Daten wieder hergestellt werden.\n",
    "\n",
    "Dieses Jupyter Notebook steht auch zum download zur Verfügung."
   ]
  },
  {
   "cell_type": "code",
   "execution_count": null,
   "metadata": {},
   "outputs": [],
   "source": [
    "import matplotlib.pyplot as plt\n",
    "from mpl_toolkits.mplot3d import Axes3D\n",
    "from skimage import io\n",
    "import numpy as np\n",
    "\n",
    "# enable interactive plots\n",
    "%matplotlib notebook"
   ]
  },
  {
   "cell_type": "code",
   "execution_count": null,
   "metadata": {},
   "outputs": [],
   "source": [
    "def show_image(image):\n",
    "    image = image.astype(np.uint8)\n",
    "    plt.close() # close old figures\n",
    "    fig = plt.figure(figsize = (8,8))    \n",
    "    ax = fig.add_subplot(1, 1, 1)\n",
    "    fig.tight_layout()\n",
    "    ax.imshow(image, interpolation='nearest')"
   ]
  },
  {
   "cell_type": "code",
   "execution_count": null,
   "metadata": {},
   "outputs": [],
   "source": [
    "# load and show the trainings image\n",
    "img = io.imread(\"http://home.htw-berlin.de/~hezel/computervision/WS1920/uebung1/summer.jpg\")\n",
    "show_image(img)"
   ]
  },
  {
   "cell_type": "code",
   "execution_count": null,
   "metadata": {},
   "outputs": [],
   "source": [
    "# TODO create a rows, columns variable from the shape of the image data\n",
    "rows, cols, _ = img.shape"
   ]
  },
  {
   "cell_type": "code",
   "execution_count": null,
   "metadata": {},
   "outputs": [],
   "source": [
    "# TODO Reshape the data. Put the pixels in linear order (scanline) and store them in x\n",
    "x = img.reshape(-1, 3)"
   ]
  },
  {
   "cell_type": "code",
   "execution_count": null,
   "metadata": {},
   "outputs": [],
   "source": [
    "# TODO print the first three pixels\n",
    "x[0]"
   ]
  },
  {
   "cell_type": "code",
   "execution_count": null,
   "metadata": {},
   "outputs": [],
   "source": [
    "# 3D color distribution\n",
    "def show_color_distribution(x_in):\n",
    "    plt.close() # close old figures\n",
    "    fig = plt.figure(figsize = (9,9))\n",
    "    ax = fig.add_subplot(1, 1, 1, projection='3d')\n",
    "    \n",
    "    ax.set_xlim3d(0, 255)\n",
    "    ax.set_ylim3d(0, 255)\n",
    "    ax.set_zlim3d(0, 255)\n",
    "    ax.set_xlabel('R')\n",
    "    ax.set_ylabel('G')\n",
    "    ax.set_zlabel('B')\n",
    "    \n",
    "    # sub sampling: start at 0 and collect very 100th element\n",
    "    x_sub = x_in[::100]  \n",
    "    \n",
    "    # colors need to be between 0 ... 1\n",
    "    rgb = x_sub / 255\n",
    "    \n",
    "    # transpose to have 3 rows, for each color channel one\n",
    "    x_sub_t = np.transpose(x_sub)    \n",
    "    \n",
    "    # display the colors in the diagram\n",
    "    ax.scatter(x_sub_t[0] , x_sub_t[1] , x_sub_t[2], s=50, facecolor=rgb)   # colored dots\n",
    "    \n",
    "    plt.show()"
   ]
  },
  {
   "cell_type": "code",
   "execution_count": null,
   "metadata": {},
   "outputs": [],
   "source": [
    "show_color_distribution(x)"
   ]
  },
  {
   "cell_type": "markdown",
   "metadata": {},
   "source": [
    "## Problem\n",
    "Alle Werte vom Grün-Kanal werden auf null gesetzt und sollen in einen späteren Schritt wieder rekonstruiert werden.\n",
    "\n"
   ]
  },
  {
   "cell_type": "code",
   "execution_count": null,
   "metadata": {},
   "outputs": [],
   "source": [
    "xp0 = np.copy(x)        # copy of the original data\n",
    "xp0[:,1] = 0            # set all values of the G-channel to zero\n",
    "img_pred = np.reshape(xp0, [rows, cols, 3]) # reshape to an 2D RGB image\n",
    "img_pred[0][0]"
   ]
  },
  {
   "cell_type": "code",
   "execution_count": null,
   "metadata": {},
   "outputs": [],
   "source": [
    "show_image(img_pred)"
   ]
  },
  {
   "cell_type": "code",
   "execution_count": null,
   "metadata": {},
   "outputs": [],
   "source": [
    "show_color_distribution(xp0) "
   ]
  },
  {
   "cell_type": "markdown",
   "metadata": {},
   "source": [
    "## Aufgabe\n",
    "\n",
    "Verwenden sie die Lineare Regression um aus den R und B Werten des Bildes den Grün-Kanal wieder herzustellen. Gehen sie dabei so vor wie im 1D Beispiel. Erweitern sie aber die Predictions- und Gradientenformeln um mit der zusätzlichen Dimension zurecht zu kommen. Arbeiten sie mit den normalisierten Daten oder passen sie die Lernrate dem entsprechend an. Berechnen sie die den Rekonstruktionsfehler und Plotten sie das Bild mit den rekonstruierten Grün-Kanal. Achten sie darauf die Eingangsdaten vorher zu normalisieren.\n",
    "\n"
   ]
  },
  {
   "cell_type": "code",
   "execution_count": null,
   "metadata": {},
   "outputs": [],
   "source": [
    "X = x / 255.0\n",
    "X_train = np.vstack((X[:,0], X[:,2])).T\n",
    "y_train = X[:,1].reshape(-1, 1)\n",
    "X_train.shape, y_train.shape"
   ]
  },
  {
   "cell_type": "code",
   "execution_count": null,
   "metadata": {},
   "outputs": [],
   "source": [
    "theta = np.random.randn(X_train.shape[1], 1)\n",
    "theta.shape, theta"
   ]
  },
  {
   "cell_type": "code",
   "execution_count": null,
   "metadata": {},
   "outputs": [],
   "source": [
    "alpha = 2.0 / len(X_train)\n",
    "alpha"
   ]
  },
  {
   "cell_type": "code",
   "execution_count": null,
   "metadata": {},
   "outputs": [],
   "source": [
    "for _ in range(30):\n",
    "    y_pred = np.dot(X_train, theta)\n",
    "    theta = theta - alpha * X_train.T.dot(y_pred - y_train)\n",
    "    loss = np.sum((y_pred - y_train) ** 2)\n",
    "    print(loss)"
   ]
  },
  {
   "cell_type": "markdown",
   "metadata": {},
   "source": [
    "## Ergebnis\n",
    "\n",
    "Das rekonstruierte Bild könnte wie folgt aussehen:\n",
    "\n"
   ]
  },
  {
   "cell_type": "code",
   "execution_count": null,
   "metadata": {},
   "outputs": [],
   "source": [
    "img = np.vstack((X_train.T[0], y_pred.reshape(-1), X_train.T[1])).T\n",
    "img = img * 255\n",
    "img = img.astype(int)"
   ]
  },
  {
   "cell_type": "code",
   "execution_count": null,
   "metadata": {},
   "outputs": [],
   "source": [
    "img = img.reshape(rows, cols, 3)\n",
    "show_image(img)"
   ]
  },
  {
   "cell_type": "markdown",
   "metadata": {},
   "source": [
    "## Abgabe\n",
    "Bevor sie das Notebook in Moodle hochladen entfernen sie bitte über \"Kernel\" -> \"Restart and Clear Output\" sämtlichen von Python erstellten Inhalt und speichern anschließend das Notebook \"File\" -> \"Save and Checkpoint\" erneut ab. Sorgen sie bitte außerdem dafür das im Dateinamen ihr Vor- und Nachname steht, ich empfehle folgende Namensgebung: \"02_LinearRegression_2D_VORNAME_NACHNAME.ipynb\"\n",
    "\n"
   ]
  }
 ],
 "metadata": {
  "anaconda-cloud": {},
  "hide_input": false,
  "kernelspec": {
   "display_name": "Python 3",
   "language": "python",
   "name": "python3"
  },
  "language_info": {
   "codemirror_mode": {
    "name": "ipython",
    "version": 3
   },
   "file_extension": ".py",
   "mimetype": "text/x-python",
   "name": "python",
   "nbconvert_exporter": "python",
   "pygments_lexer": "ipython3",
   "version": "3.7.3"
  }
 },
 "nbformat": 4,
 "nbformat_minor": 1
}
